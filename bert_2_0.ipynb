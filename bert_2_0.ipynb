{
 "cells": [
  {
   "cell_type": "code",
   "execution_count": 14,
   "id": "ac5065b3",
   "metadata": {},
   "outputs": [],
   "source": [
    "import json"
   ]
  },
  {
   "cell_type": "code",
   "execution_count": 15,
   "id": "3be70761",
   "metadata": {},
   "outputs": [],
   "source": [
    "import datasets\n",
    "from datasets import load_dataset\n",
    "from datasets import Dataset\n",
    "from sklearn.model_selection import train_test_split"
   ]
  },
  {
   "cell_type": "code",
   "execution_count": 16,
   "id": "81c9329c",
   "metadata": {},
   "outputs": [],
   "source": [
    "from transformers import AutoTokenizer\n",
    "from transformers import DataCollatorWithPadding\n",
    "from transformers import AutoModelForSequenceClassification\n",
    "from transformers import TrainingArguments, Trainer\n",
    "from transformers import AutoModelForMaskedLM\n",
    "from transformers import pipeline"
   ]
  },
  {
   "cell_type": "code",
   "execution_count": 17,
   "id": "185e242b",
   "metadata": {},
   "outputs": [],
   "source": [
    "model_name = 'cointegrated/rubert-tiny'"
   ]
  },
  {
   "cell_type": "code",
   "execution_count": 18,
   "id": "2d4c9680",
   "metadata": {},
   "outputs": [],
   "source": [
    "def start_function(examples):\n",
    "    return tokenizer(examples[\"text\"], truncation=True, max_length=312, padding='max_length')\n",
    "\n",
    "\n",
    "\n",
    "alphabet = 'abcdefghijklmnopqrstuvwxyzABCDEFGHIJKLMOPQRSTUVWXYZ<>^[-]()_%*\"\"\\\\\\n'\n",
    "num = '0123456789'\n",
    "def clear_words(sent):\n",
    "    new_sent = sent\n",
    "    for i in new_sent:\n",
    "        if i in alphabet:\n",
    "            new_sent = new_sent.replace(i, '')\n",
    "        elif i in num:\n",
    "            return ''\n",
    "    if len(new_sent) == 0:\n",
    "        return ''\n",
    "    if new_sent[0] == ' ':\n",
    "        return new_sent[1:] \n",
    "    else:\n",
    "        return new_sent"
   ]
  },
  {
   "cell_type": "code",
   "execution_count": 19,
   "id": "841f1226",
   "metadata": {},
   "outputs": [],
   "source": [
    "with open('anekdot.json', encoding=\"utf-8\") as f:\n",
    "    anecdot = json.load(f)"
   ]
  },
  {
   "cell_type": "code",
   "execution_count": null,
   "id": "3b278726",
   "metadata": {},
   "outputs": [],
   "source": []
  },
  {
   "cell_type": "code",
   "execution_count": 20,
   "id": "faee524c",
   "metadata": {},
   "outputs": [],
   "source": [
    "text_list = []\n",
    "for i in range(len(anecdot)):\n",
    "    text_list.append(anecdot[i]['text'])"
   ]
  },
  {
   "cell_type": "code",
   "execution_count": null,
   "id": "f4f9fce6",
   "metadata": {},
   "outputs": [],
   "source": []
  },
  {
   "cell_type": "code",
   "execution_count": 21,
   "id": "b55b7a23",
   "metadata": {},
   "outputs": [],
   "source": [
    "word = [item for sentence in text_list for item in sentence.split('.') if item != '']"
   ]
  },
  {
   "cell_type": "code",
   "execution_count": 22,
   "id": "f943330c",
   "metadata": {},
   "outputs": [],
   "source": [
    "word = list(filter(lambda x: x != '\\n', word))"
   ]
  },
  {
   "cell_type": "code",
   "execution_count": 23,
   "id": "d8bf1e93",
   "metadata": {},
   "outputs": [],
   "source": [
    "new_words = []\n",
    "for temp in word:\n",
    "    if len(temp) > 8:\n",
    "        new_temp = clear_words(temp)\n",
    "        if new_temp != '':\n",
    "            new_words.append(new_temp)\n",
    "word = new_words"
   ]
  },
  {
   "cell_type": "code",
   "execution_count": 24,
   "id": "efbf82bc",
   "metadata": {},
   "outputs": [],
   "source": [
    "train_anecdot, test_anecdot = train_test_split(word, test_size=0.2)"
   ]
  },
  {
   "cell_type": "code",
   "execution_count": 25,
   "id": "3d218d55",
   "metadata": {},
   "outputs": [],
   "source": [
    "train_dd = Dataset.from_dict({'text': train_anecdot})\n",
    "test_dd = Dataset.from_dict({'text': test_anecdot})"
   ]
  },
  {
   "cell_type": "code",
   "execution_count": 26,
   "id": "859aea57",
   "metadata": {},
   "outputs": [],
   "source": [
    "anecdot_dd = datasets.DatasetDict({'train': train_dd, 'test': test_dd})"
   ]
  },
  {
   "cell_type": "code",
   "execution_count": 27,
   "id": "66d60749",
   "metadata": {},
   "outputs": [],
   "source": [
    "tokenizer = AutoTokenizer.from_pretrained(model_name)"
   ]
  },
  {
   "cell_type": "code",
   "execution_count": 28,
   "id": "3126ab03",
   "metadata": {},
   "outputs": [
    {
     "data": {
      "application/vnd.jupyter.widget-view+json": {
       "model_id": "77bf134d50c64304aad789bbcfbac718",
       "version_major": 2,
       "version_minor": 0
      },
      "text/plain": [
       "  0%|          | 0/184 [00:00<?, ?ba/s]"
      ]
     },
     "metadata": {},
     "output_type": "display_data"
    },
    {
     "data": {
      "application/vnd.jupyter.widget-view+json": {
       "model_id": "d33a138ee2cf4f25948df554e59bb5ec",
       "version_major": 2,
       "version_minor": 0
      },
      "text/plain": [
       "  0%|          | 0/46 [00:00<?, ?ba/s]"
      ]
     },
     "metadata": {},
     "output_type": "display_data"
    }
   ],
   "source": [
    "tokenizer_anecdot = anecdot_dd.map(start_function, batched=True)"
   ]
  },
  {
   "cell_type": "code",
   "execution_count": 29,
   "id": "d66689b6",
   "metadata": {},
   "outputs": [],
   "source": [
    "data_collator = DataCollatorWithPadding(tokenizer=tokenizer)"
   ]
  },
  {
   "cell_type": "code",
   "execution_count": 30,
   "id": "ab96a4ef",
   "metadata": {},
   "outputs": [],
   "source": [
    "def labels(example):\n",
    "    example['labels'] = example['input_ids'].copy()\n",
    "    return example"
   ]
  },
  {
   "cell_type": "code",
   "execution_count": 31,
   "id": "2d5c3941",
   "metadata": {},
   "outputs": [
    {
     "data": {
      "application/vnd.jupyter.widget-view+json": {
       "model_id": "1b78c9f7aa6246e8a07284b3c9041e7e",
       "version_major": 2,
       "version_minor": 0
      },
      "text/plain": [
       "  0%|          | 0/184 [00:00<?, ?ba/s]"
      ]
     },
     "metadata": {},
     "output_type": "display_data"
    },
    {
     "data": {
      "application/vnd.jupyter.widget-view+json": {
       "model_id": "7a79f62b32864acba707908547782203",
       "version_major": 2,
       "version_minor": 0
      },
      "text/plain": [
       "  0%|          | 0/46 [00:00<?, ?ba/s]"
      ]
     },
     "metadata": {},
     "output_type": "display_data"
    }
   ],
   "source": [
    "tokenizer_anecdot = tokenizer_anecdot.map(labels, batched=True)"
   ]
  },
  {
   "cell_type": "code",
   "execution_count": 32,
   "id": "8337845f",
   "metadata": {},
   "outputs": [
    {
     "name": "stderr",
     "output_type": "stream",
     "text": [
      "Some weights of the model checkpoint at cointegrated/rubert-tiny were not used when initializing BertForMaskedLM: ['cls.seq_relationship.bias', 'cls.seq_relationship.weight']\n",
      "- This IS expected if you are initializing BertForMaskedLM from the checkpoint of a model trained on another task or with another architecture (e.g. initializing a BertForSequenceClassification model from a BertForPreTraining model).\n",
      "- This IS NOT expected if you are initializing BertForMaskedLM from the checkpoint of a model that you expect to be exactly identical (initializing a BertForSequenceClassification model from a BertForSequenceClassification model).\n"
     ]
    }
   ],
   "source": [
    "model = AutoModelForMaskedLM.from_pretrained(model_name)"
   ]
  },
  {
   "cell_type": "code",
   "execution_count": 33,
   "id": "2df508a4",
   "metadata": {},
   "outputs": [
    {
     "data": {
      "text/plain": [
       "BertForMaskedLM(\n",
       "  (bert): BertModel(\n",
       "    (embeddings): BertEmbeddings(\n",
       "      (word_embeddings): Embedding(29564, 312, padding_idx=0)\n",
       "      (position_embeddings): Embedding(512, 312)\n",
       "      (token_type_embeddings): Embedding(2, 312)\n",
       "      (LayerNorm): LayerNorm((312,), eps=1e-12, elementwise_affine=True)\n",
       "      (dropout): Dropout(p=0.1, inplace=False)\n",
       "    )\n",
       "    (encoder): BertEncoder(\n",
       "      (layer): ModuleList(\n",
       "        (0): BertLayer(\n",
       "          (attention): BertAttention(\n",
       "            (self): BertSelfAttention(\n",
       "              (query): Linear(in_features=312, out_features=312, bias=True)\n",
       "              (key): Linear(in_features=312, out_features=312, bias=True)\n",
       "              (value): Linear(in_features=312, out_features=312, bias=True)\n",
       "              (dropout): Dropout(p=0.1, inplace=False)\n",
       "            )\n",
       "            (output): BertSelfOutput(\n",
       "              (dense): Linear(in_features=312, out_features=312, bias=True)\n",
       "              (LayerNorm): LayerNorm((312,), eps=1e-12, elementwise_affine=True)\n",
       "              (dropout): Dropout(p=0.1, inplace=False)\n",
       "            )\n",
       "          )\n",
       "          (intermediate): BertIntermediate(\n",
       "            (dense): Linear(in_features=312, out_features=600, bias=True)\n",
       "          )\n",
       "          (output): BertOutput(\n",
       "            (dense): Linear(in_features=600, out_features=312, bias=True)\n",
       "            (LayerNorm): LayerNorm((312,), eps=1e-12, elementwise_affine=True)\n",
       "            (dropout): Dropout(p=0.1, inplace=False)\n",
       "          )\n",
       "        )\n",
       "        (1): BertLayer(\n",
       "          (attention): BertAttention(\n",
       "            (self): BertSelfAttention(\n",
       "              (query): Linear(in_features=312, out_features=312, bias=True)\n",
       "              (key): Linear(in_features=312, out_features=312, bias=True)\n",
       "              (value): Linear(in_features=312, out_features=312, bias=True)\n",
       "              (dropout): Dropout(p=0.1, inplace=False)\n",
       "            )\n",
       "            (output): BertSelfOutput(\n",
       "              (dense): Linear(in_features=312, out_features=312, bias=True)\n",
       "              (LayerNorm): LayerNorm((312,), eps=1e-12, elementwise_affine=True)\n",
       "              (dropout): Dropout(p=0.1, inplace=False)\n",
       "            )\n",
       "          )\n",
       "          (intermediate): BertIntermediate(\n",
       "            (dense): Linear(in_features=312, out_features=600, bias=True)\n",
       "          )\n",
       "          (output): BertOutput(\n",
       "            (dense): Linear(in_features=600, out_features=312, bias=True)\n",
       "            (LayerNorm): LayerNorm((312,), eps=1e-12, elementwise_affine=True)\n",
       "            (dropout): Dropout(p=0.1, inplace=False)\n",
       "          )\n",
       "        )\n",
       "        (2): BertLayer(\n",
       "          (attention): BertAttention(\n",
       "            (self): BertSelfAttention(\n",
       "              (query): Linear(in_features=312, out_features=312, bias=True)\n",
       "              (key): Linear(in_features=312, out_features=312, bias=True)\n",
       "              (value): Linear(in_features=312, out_features=312, bias=True)\n",
       "              (dropout): Dropout(p=0.1, inplace=False)\n",
       "            )\n",
       "            (output): BertSelfOutput(\n",
       "              (dense): Linear(in_features=312, out_features=312, bias=True)\n",
       "              (LayerNorm): LayerNorm((312,), eps=1e-12, elementwise_affine=True)\n",
       "              (dropout): Dropout(p=0.1, inplace=False)\n",
       "            )\n",
       "          )\n",
       "          (intermediate): BertIntermediate(\n",
       "            (dense): Linear(in_features=312, out_features=600, bias=True)\n",
       "          )\n",
       "          (output): BertOutput(\n",
       "            (dense): Linear(in_features=600, out_features=312, bias=True)\n",
       "            (LayerNorm): LayerNorm((312,), eps=1e-12, elementwise_affine=True)\n",
       "            (dropout): Dropout(p=0.1, inplace=False)\n",
       "          )\n",
       "        )\n",
       "      )\n",
       "    )\n",
       "  )\n",
       "  (cls): BertOnlyMLMHead(\n",
       "    (predictions): BertLMPredictionHead(\n",
       "      (transform): BertPredictionHeadTransform(\n",
       "        (dense): Linear(in_features=312, out_features=312, bias=True)\n",
       "        (LayerNorm): LayerNorm((312,), eps=1e-12, elementwise_affine=True)\n",
       "      )\n",
       "      (decoder): Linear(in_features=312, out_features=29564, bias=True)\n",
       "    )\n",
       "  )\n",
       ")"
      ]
     },
     "execution_count": 33,
     "metadata": {},
     "output_type": "execute_result"
    }
   ],
   "source": [
    "model.to('cuda')"
   ]
  },
  {
   "cell_type": "code",
   "execution_count": 34,
   "id": "51b77250",
   "metadata": {},
   "outputs": [],
   "source": [
    "training_args = TrainingArguments(\n",
    "    output_dir='D:/Anecdote_BERT/',\n",
    "    learning_rate=2e-5,\n",
    "    per_device_train_batch_size=4,\n",
    "    per_device_eval_batch_size=4,\n",
    "    num_train_epochs=2,\n",
    "    weight_decay=0.001\n",
    ")\n",
    "\n",
    "trainer = Trainer(\n",
    "    model=model,\n",
    "    args=training_args,\n",
    "    train_dataset=tokenizer_anecdot[\"train\"],\n",
    "    eval_dataset=tokenizer_anecdot[\"test\"],\n",
    "    tokenizer=tokenizer,\n",
    "    data_collator=data_collator\n",
    ")"
   ]
  },
  {
   "cell_type": "code",
   "execution_count": 35,
   "id": "c76639da",
   "metadata": {},
   "outputs": [],
   "source": [
    "import torch\n",
    "torch.cuda.empty_cache()"
   ]
  },
  {
   "cell_type": "code",
   "execution_count": 36,
   "id": "e8bf57d3",
   "metadata": {},
   "outputs": [
    {
     "data": {
      "text/plain": [
       "'|===========================================================================|\\n|                  PyTorch CUDA memory summary, device ID 0                 |\\n|---------------------------------------------------------------------------|\\n|            CUDA OOMs: 0            |        cudaMalloc retries: 0         |\\n|===========================================================================|\\n|        Metric         | Cur Usage  | Peak Usage | Tot Alloc  | Tot Freed  |\\n|---------------------------------------------------------------------------|\\n| Allocated memory      |   47005 KB |   47005 KB |   47005 KB |       0 B  |\\n|       from large pool |   36864 KB |   36864 KB |   36864 KB |       0 B  |\\n|       from small pool |   10141 KB |   10141 KB |   10141 KB |       0 B  |\\n|---------------------------------------------------------------------------|\\n| Active memory         |   47005 KB |   47005 KB |   47005 KB |       0 B  |\\n|       from large pool |   36864 KB |   36864 KB |   36864 KB |       0 B  |\\n|       from small pool |   10141 KB |   10141 KB |   10141 KB |       0 B  |\\n|---------------------------------------------------------------------------|\\n| GPU reserved memory   |   49152 KB |   49152 KB |   49152 KB |       0 B  |\\n|       from large pool |   36864 KB |   36864 KB |   36864 KB |       0 B  |\\n|       from small pool |   12288 KB |   12288 KB |   12288 KB |       0 B  |\\n|---------------------------------------------------------------------------|\\n| Non-releasable memory |    2147 KB |    2652 KB |    9059 KB |    6912 KB |\\n|       from large pool |       0 KB |       0 KB |       0 KB |       0 KB |\\n|       from small pool |    2147 KB |    2652 KB |    9059 KB |    6912 KB |\\n|---------------------------------------------------------------------------|\\n| Allocations           |      60    |      60    |      60    |       0    |\\n|       from large pool |       1    |       1    |       1    |       0    |\\n|       from small pool |      59    |      59    |      59    |       0    |\\n|---------------------------------------------------------------------------|\\n| Active allocs         |      60    |      60    |      60    |       0    |\\n|       from large pool |       1    |       1    |       1    |       0    |\\n|       from small pool |      59    |      59    |      59    |       0    |\\n|---------------------------------------------------------------------------|\\n| GPU reserved segments |       7    |       7    |       7    |       0    |\\n|       from large pool |       1    |       1    |       1    |       0    |\\n|       from small pool |       6    |       6    |       6    |       0    |\\n|---------------------------------------------------------------------------|\\n| Non-releasable allocs |       6    |       6    |       6    |       0    |\\n|       from large pool |       0    |       0    |       0    |       0    |\\n|       from small pool |       6    |       6    |       6    |       0    |\\n|---------------------------------------------------------------------------|\\n| Oversize allocations  |       0    |       0    |       0    |       0    |\\n|---------------------------------------------------------------------------|\\n| Oversize GPU segments |       0    |       0    |       0    |       0    |\\n|===========================================================================|\\n'"
      ]
     },
     "execution_count": 36,
     "metadata": {},
     "output_type": "execute_result"
    }
   ],
   "source": [
    "torch.cuda.memory_summary(device=None, abbreviated=False)"
   ]
  },
  {
   "cell_type": "code",
   "execution_count": 1,
   "id": "734f4427",
   "metadata": {
    "scrolled": false
   },
   "outputs": [
    {
     "ename": "NameError",
     "evalue": "name 'trainer' is not defined",
     "output_type": "error",
     "traceback": [
      "\u001b[1;31m---------------------------------------------------------------------------\u001b[0m",
      "\u001b[1;31mNameError\u001b[0m                                 Traceback (most recent call last)",
      "\u001b[1;32m~\\AppData\\Local\\Temp/ipykernel_18828/4032920361.py\u001b[0m in \u001b[0;36m<module>\u001b[1;34m\u001b[0m\n\u001b[1;32m----> 1\u001b[1;33m \u001b[0mtrainer\u001b[0m\u001b[1;33m.\u001b[0m\u001b[0mtrain\u001b[0m\u001b[1;33m(\u001b[0m\u001b[1;33m)\u001b[0m\u001b[1;33m\u001b[0m\u001b[1;33m\u001b[0m\u001b[0m\n\u001b[0m",
      "\u001b[1;31mNameError\u001b[0m: name 'trainer' is not defined"
     ]
    }
   ],
   "source": [
    "trainer.train()"
   ]
  },
  {
   "cell_type": "code",
   "execution_count": null,
   "id": "0a317bf5",
   "metadata": {},
   "outputs": [],
   "source": [
    "trainer.save_model('./bert_model')\n",
    "bert_model = AutoModelForMaskedLM.from_pretrained('./bert_model', local_files_only=True)\n",
    "\n",
    "fill_mask = pipeline(\n",
    "    \"fill-mask\",\n",
    "    model=bert_model,\n",
    "    tokenizer=model_name,\n",
    "    top_k=10\n",
    ")\n",
    "fill_mask('[MASK]')"
   ]
  }
 ],
 "metadata": {
  "kernelspec": {
   "display_name": "Python 3 (ipykernel)",
   "language": "python",
   "name": "python3"
  },
  "language_info": {
   "codemirror_mode": {
    "name": "ipython",
    "version": 3
   },
   "file_extension": ".py",
   "mimetype": "text/x-python",
   "name": "python",
   "nbconvert_exporter": "python",
   "pygments_lexer": "ipython3",
   "version": "3.9.7"
  }
 },
 "nbformat": 4,
 "nbformat_minor": 5
}
